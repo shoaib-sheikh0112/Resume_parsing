{
 "cells": [
  {
   "cell_type": "code",
   "execution_count": null,
   "metadata": {
    "vscode": {
     "languageId": "plaintext"
    }
   },
   "outputs": [],
   "source": [
    "import os\n",
    "from pypdf import PdfReader\n",
    "from docx import Document\n",
    " \n",
    " \n",
    "directory = 'all resumes'\n",
    " \n",
    "output_file_path = 'extracted_resumes.txt'\n",
    " \n",
    "with open(output_file_path, 'w', encoding='utf-8') as output_file:\n",
    "   \n",
    "    for filename in os.listdir(directory):\n",
    "        file_path = os.path.join(directory, filename)\n",
    " \n",
    "       \n",
    "        if filename.endswith('.pdf'):\n",
    "            pdf_reader = PdfReader(file_path)\n",
    "           \n",
    "            for pdf_page in pdf_reader.pages:\n",
    "                output_file.write(pdf_page.extract_text() )\n",
    "         \n",
    " \n",
    "       \n",
    "        elif filename.endswith('.docx'):\n",
    "            doc = Document(file_path)\n",
    "            for paragraph in doc.paragraphs:\n",
    "                output_file.write(paragraph.text)\n",
    "           \n",
    "print(output_file_path)\n",
    "print(f\"Extracted content saved to {output_file_path}\")"
   ]
  }
 ],
 "metadata": {
  "language_info": {
   "name": "python"
  }
 },
 "nbformat": 4,
 "nbformat_minor": 2
}
